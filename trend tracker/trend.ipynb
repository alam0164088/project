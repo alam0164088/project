{
 "cells": [
  {
   "cell_type": "markdown",
   "id": "055315cd-4071-4c63-821b-dc35cc365ed4",
   "metadata": {},
   "source": [
    "Objective:\n",
    "To analyze historical data and identify trends using Python, leveraging libraries for data manipulation, visualization, and predictive modeling.\n",
    "\n"
   ]
  },
  {
   "cell_type": "markdown",
   "id": "e9fef6b4-79af-4160-bb16-060ed11fcc40",
   "metadata": {},
   "source": [
    "1. Define the Scope\n",
    "Focus Area: E-commerce sales trends (as an example).\n",
    "Key Metrics: Sales volume, average order value, customer acquisition.\n",
    "2. Data Collection\n",
    "Source Data: CSV files, APIs, or databases.\n",
    "Example CSV: sales_data.csv with columns like date, sales, category."
   ]
  },
  {
   "cell_type": "code",
   "execution_count": null,
   "id": "959d939d-1ded-4201-a87a-50c7a4f15555",
   "metadata": {},
   "outputs": [],
   "source": [
    "# Install necessary libraries\n",
    "!pip install pandas numpy matplotlib seaborn statsmodels\n"
   ]
  },
  {
   "cell_type": "code",
   "execution_count": null,
   "id": "ddae1aad-ab42-43c9-bc61-9f42fbbf3b6e",
   "metadata": {},
   "outputs": [],
   "source": [
    "import pandas as pd\n",
    "\n",
    "# Load data\n",
    "data = pd.read_csv('sales_data.csv')\n",
    "\n",
    "# Convert date column to datetime\n",
    "data['date'] = pd.to_datetime(data['date'])\n",
    "\n",
    "# Set date as index\n",
    "data.set_index('date', inplace=True)\n",
    "\n",
    "# Check for missing values\n",
    "print(data.isnull().sum())\n",
    "data.fillna(method='ffill', inplace=True)  # Forward fill for missing values\n"
   ]
  },
  {
   "cell_type": "code",
   "execution_count": null,
   "id": "61f89f69-8f33-42d3-88a2-43e47535e6f7",
   "metadata": {},
   "outputs": [],
   "source": [
    "import matplotlib.pyplot as plt\n",
    "import seaborn as sns\n",
    "\n",
    "# Visualize sales over time\n",
    "plt.figure(figsize=(12, 6))\n",
    "plt.plot(data.index, data['sales'], label='Sales', color='blue')\n",
    "plt.title('Sales Over Time')\n",
    "plt.xlabel('Date')\n",
    "plt.ylabel('Sales')\n",
    "plt.legend()\n",
    "plt.show()\n",
    "\n",
    "# Descriptive statistics\n",
    "print(data.describe())\n"
   ]
  },
  {
   "cell_type": "code",
   "execution_count": null,
   "id": "411a73db-9b76-41fe-8c8d-acdbe3a160ac",
   "metadata": {},
   "outputs": [],
   "source": [
    "# Calculate moving average\n",
    "data['moving_average'] = data['sales'].rolling(window=30).mean()\n",
    "\n",
    "# Plotting\n",
    "plt.figure(figsize=(12, 6))\n",
    "plt.plot(data.index, data['sales'], label='Sales', color='blue')\n",
    "plt.plot(data.index, data['moving_average'], label='30-Day Moving Average', color='orange')\n",
    "plt.title('Sales and Moving Average')\n",
    "plt.xlabel('Date')\n",
    "plt.ylabel('Sales')\n",
    "plt.legend()\n",
    "plt.show()\n"
   ]
  },
  {
   "cell_type": "code",
   "execution_count": null,
   "id": "364f30b3-b5d3-4d81-8115-abf5abbfcb07",
   "metadata": {},
   "outputs": [],
   "source": [
    "from statsmodels.tsa.arima.model import ARIMA\n",
    "\n",
    "# Fit the model\n",
    "model = ARIMA(data['sales'], order=(5, 1, 0))  # Adjust (p, d, q) based on ACF/PACF plots\n",
    "model_fit = model.fit()\n",
    "\n",
    "# Forecasting\n",
    "forecast = model_fit.forecast(steps=30)  # Forecast the next 30 days\n",
    "\n",
    "# Plotting forecast\n",
    "plt.figure(figsize=(12, 6))\n",
    "plt.plot(data.index, data['sales'], label='Sales', color='blue')\n",
    "plt.plot(pd.date_range(start=data.index[-1], periods=31, freq='D')[1:], forecast, label='Forecast', color='red')\n",
    "plt.title('Sales Forecast')\n",
    "plt.xlabel('Date')\n",
    "plt.ylabel('Sales')\n",
    "plt.legend()\n",
    "plt.show()\n"
   ]
  },
  {
   "cell_type": "code",
   "execution_count": null,
   "id": "1d66c552-7b31-482c-849d-1dc2ed1053fe",
   "metadata": {},
   "outputs": [],
   "source": []
  }
 ],
 "metadata": {
  "kernelspec": {
   "display_name": "Python 3 (ipykernel)",
   "language": "python",
   "name": "python3"
  },
  "language_info": {
   "codemirror_mode": {
    "name": "ipython",
    "version": 3
   },
   "file_extension": ".py",
   "mimetype": "text/x-python",
   "name": "python",
   "nbconvert_exporter": "python",
   "pygments_lexer": "ipython3",
   "version": "3.12.5"
  }
 },
 "nbformat": 4,
 "nbformat_minor": 5
}
